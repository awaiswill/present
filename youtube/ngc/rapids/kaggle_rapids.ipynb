{
 "cells": [
  {
   "cell_type": "code",
   "execution_count": null,
   "metadata": {},
   "outputs": [],
   "source": [
    "import os\n",
    "import cudf\n",
    "from cuml.preprocessing import LabelEncoder\n",
    "\n",
    "ROOT = \"/rapids/notebooks/host/kaggle/kaggle\"\n",
    "\n",
    "# Load and preprocess data\n",
    "# https://docs.dask.org/en/latest/remote-data-services.html\n",
    "gdf_train = cudf.read_csv(os.path.join(ROOT, \"train.csv\"))\n",
    "#gdf_train = cudf.read_csv(\"s3://jheaton-load-data/kaggle/train.csv\", storage_options = {'anon': True})\n",
    "#gdf_train = cudf.read_csv(\"s3://jheaton-load-data/kaggle/train.csv\", storage_options = {'key': '', 'secret':''})\n",
    "x = gdf_train.iloc[:,1:-1]\n",
    "y = gdf_train.loc[:,'target']\n",
    "y = LabelEncoder().fit_transform(y)"
   ]
  },
  {
   "cell_type": "code",
   "execution_count": null,
   "metadata": {},
   "outputs": [],
   "source": [
    "%%time\n",
    "import xgboost as xgb\n",
    "\n",
    "# Train model\n",
    "params = dict(\n",
    "    objective='multi:softmax',\n",
    "    max_depth=11,\n",
    "    num_class=9,\n",
    "    learning_rate=0.05,\n",
    "    subsample=0.9,\n",
    "    colsample_bytree=0.7,\n",
    "    random_state=42,\n",
    "    eval_metric='mlogloss',\n",
    "    tree_method='gpu_hist',\n",
    "    n_gpus = 1)\n",
    "dtrain = xgb.DMatrix(x,y)\n",
    "evallist = [(dtrain, 'train')]\n",
    "clf = xgb.train(params, dtrain, 100, evallist)"
   ]
  },
  {
   "cell_type": "code",
   "execution_count": null,
   "metadata": {},
   "outputs": [],
   "source": []
  }
 ],
 "metadata": {
  "kernelspec": {
   "display_name": "Python 3",
   "language": "python",
   "name": "python3"
  },
  "language_info": {
   "codemirror_mode": {
    "name": "ipython",
    "version": 3
   },
   "file_extension": ".py",
   "mimetype": "text/x-python",
   "name": "python",
   "nbconvert_exporter": "python",
   "pygments_lexer": "ipython3",
   "version": "3.7.4"
  }
 },
 "nbformat": 4,
 "nbformat_minor": 4
}
