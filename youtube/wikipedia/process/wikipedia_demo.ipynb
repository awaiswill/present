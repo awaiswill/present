{
 "cells": [
  {
   "cell_type": "code",
   "execution_count": 1,
   "metadata": {},
   "outputs": [],
   "source": [
    "from process_wikipedia import *\n",
    "\n",
    "#WIKIPEDIA_ROOT = \"/home/jeff/data/wikipedia\"\n",
    "WIKIPEDIA_ROOT = \"C:\\\\Users\\\\jeffh\\\\data\\\\wikipedia\\\\\"\n",
    "WIKIPEDIA_DL = os.path.join(WIKIPEDIA_ROOT, 'dl')"
   ]
  },
  {
   "cell_type": "code",
   "execution_count": 2,
   "metadata": {},
   "outputs": [
    {
     "name": "stdout",
     "output_type": "stream",
     "text": [
      "https://dumps.wikimedia.org/enwiki/20210320\n",
      "Exists: enwiki-20210320-pages-meta-current1.xml-p1p41242.bz2\n",
      "Exists: enwiki-20210320-pages-meta-current2.xml-p41243p151573.bz2\n",
      "Exists: enwiki-20210320-pages-meta-current3.xml-p151574p311329.bz2\n",
      "Exists: enwiki-20210320-pages-meta-current4.xml-p311330p558391.bz2\n",
      "Exists: enwiki-20210320-pages-meta-current5.xml-p558392p958045.bz2\n",
      "Exists: enwiki-20210320-pages-meta-current6.xml-p958046p1483661.bz2\n",
      "Exists: enwiki-20210320-pages-meta-current7.xml-p1483662p2134111.bz2\n",
      "Exists: enwiki-20210320-pages-meta-current8.xml-p2134112p2936260.bz2\n",
      "Exists: enwiki-20210320-pages-meta-current9.xml-p2936261p4045402.bz2\n",
      "Exists: enwiki-20210320-pages-meta-current10.xml-p4045403p5399366.bz2\n",
      "Exists: enwiki-20210320-pages-meta-current11.xml-p5399367p6899366.bz2\n",
      "Exists: enwiki-20210320-pages-meta-current11.xml-p6899367p7054859.bz2\n",
      "Exists: enwiki-20210320-pages-meta-current12.xml-p7054860p8554859.bz2\n",
      "Exists: enwiki-20210320-pages-meta-current12.xml-p8554860p9172788.bz2\n",
      "Exists: enwiki-20210320-pages-meta-current13.xml-p9172789p10672788.bz2\n",
      "Exists: enwiki-20210320-pages-meta-current13.xml-p10672789p11659682.bz2\n",
      "Exists: enwiki-20210320-pages-meta-current14.xml-p11659683p13159682.bz2\n"
     ]
    },
    {
     "ename": "KeyboardInterrupt",
     "evalue": "",
     "output_type": "error",
     "traceback": [
      "\u001b[1;31m---------------------------------------------------------------------------\u001b[0m",
      "\u001b[1;31mKeyboardInterrupt\u001b[0m                         Traceback (most recent call last)",
      "\u001b[1;32m<ipython-input-2-a8b5825e47b5>\u001b[0m in \u001b[0;36m<module>\u001b[1;34m\u001b[0m\n\u001b[0;32m     83\u001b[0m \u001b[1;33m\u001b[0m\u001b[0m\n\u001b[0;32m     84\u001b[0m \u001b[1;33m\u001b[0m\u001b[0m\n\u001b[1;32m---> 85\u001b[1;33m \u001b[0mwikidump_download\u001b[0m\u001b[1;33m(\u001b[0m\u001b[0mWIKIPEDIA_DL\u001b[0m\u001b[1;33m)\u001b[0m\u001b[1;33m\u001b[0m\u001b[1;33m\u001b[0m\u001b[0m\n\u001b[0m",
      "\u001b[1;32m<ipython-input-2-a8b5825e47b5>\u001b[0m in \u001b[0;36mwikidump_download\u001b[1;34m(target_path, wiki_url, wiki_lang, timestamp)\u001b[0m\n\u001b[0;32m     60\u001b[0m         \u001b[0mtarget_file\u001b[0m \u001b[1;33m=\u001b[0m \u001b[0mos\u001b[0m\u001b[1;33m.\u001b[0m\u001b[0mpath\u001b[0m\u001b[1;33m.\u001b[0m\u001b[0mjoin\u001b[0m\u001b[1;33m(\u001b[0m\u001b[0mtarget_path\u001b[0m\u001b[1;33m,\u001b[0m\u001b[0mfile\u001b[0m\u001b[1;33m)\u001b[0m\u001b[1;33m\u001b[0m\u001b[1;33m\u001b[0m\u001b[0m\n\u001b[0;32m     61\u001b[0m         \u001b[1;32mif\u001b[0m \u001b[0mos\u001b[0m\u001b[1;33m.\u001b[0m\u001b[0mpath\u001b[0m\u001b[1;33m.\u001b[0m\u001b[0mexists\u001b[0m\u001b[1;33m(\u001b[0m\u001b[0mtarget_file\u001b[0m\u001b[1;33m)\u001b[0m\u001b[1;33m:\u001b[0m\u001b[1;33m\u001b[0m\u001b[1;33m\u001b[0m\u001b[0m\n\u001b[1;32m---> 62\u001b[1;33m             \u001b[0msha1_local\u001b[0m \u001b[1;33m=\u001b[0m \u001b[0msha1_file\u001b[0m\u001b[1;33m(\u001b[0m\u001b[0mtarget_file\u001b[0m\u001b[1;33m)\u001b[0m\u001b[1;33m\u001b[0m\u001b[1;33m\u001b[0m\u001b[0m\n\u001b[0m\u001b[0;32m     63\u001b[0m             \u001b[1;32mif\u001b[0m \u001b[0msha1_local\u001b[0m \u001b[1;33m!=\u001b[0m \u001b[0mmeta\u001b[0m\u001b[1;33m[\u001b[0m\u001b[1;34m'sha1'\u001b[0m\u001b[1;33m]\u001b[0m\u001b[1;33m:\u001b[0m\u001b[1;33m\u001b[0m\u001b[1;33m\u001b[0m\u001b[0m\n\u001b[0;32m     64\u001b[0m                 \u001b[0mprint\u001b[0m\u001b[1;33m(\u001b[0m\u001b[1;34mf\"Corrupt: {file}\"\u001b[0m\u001b[1;33m)\u001b[0m\u001b[1;33m\u001b[0m\u001b[1;33m\u001b[0m\u001b[0m\n",
      "\u001b[1;32m<ipython-input-2-a8b5825e47b5>\u001b[0m in \u001b[0;36msha1_file\u001b[1;34m(path)\u001b[0m\n\u001b[0;32m     12\u001b[0m             \u001b[1;32mif\u001b[0m \u001b[1;32mnot\u001b[0m \u001b[0mdata\u001b[0m\u001b[1;33m:\u001b[0m\u001b[1;33m\u001b[0m\u001b[1;33m\u001b[0m\u001b[0m\n\u001b[0;32m     13\u001b[0m                 \u001b[1;32mbreak\u001b[0m\u001b[1;33m\u001b[0m\u001b[1;33m\u001b[0m\u001b[0m\n\u001b[1;32m---> 14\u001b[1;33m             \u001b[0msha1\u001b[0m\u001b[1;33m.\u001b[0m\u001b[0mupdate\u001b[0m\u001b[1;33m(\u001b[0m\u001b[0mdata\u001b[0m\u001b[1;33m)\u001b[0m\u001b[1;33m\u001b[0m\u001b[1;33m\u001b[0m\u001b[0m\n\u001b[0m\u001b[0;32m     15\u001b[0m     \u001b[1;32mreturn\u001b[0m \u001b[0msha1\u001b[0m\u001b[1;33m.\u001b[0m\u001b[0mhexdigest\u001b[0m\u001b[1;33m(\u001b[0m\u001b[1;33m)\u001b[0m\u001b[1;33m\u001b[0m\u001b[1;33m\u001b[0m\u001b[0m\n\u001b[0;32m     16\u001b[0m \u001b[1;33m\u001b[0m\u001b[0m\n",
      "\u001b[1;31mKeyboardInterrupt\u001b[0m: "
     ]
    }
   ],
   "source": [
    "import json\n",
    "import sys\n",
    "import hashlib\n",
    "\n",
    "BUF_SIZE = 65536\n",
    "\n",
    "def sha1_file(path):\n",
    "    sha1 = hashlib.sha1()\n",
    "    with open(path, 'rb') as f:\n",
    "        while True:\n",
    "            data = f.read(BUF_SIZE)\n",
    "            if not data:\n",
    "                break\n",
    "            sha1.update(data)\n",
    "    return sha1.hexdigest()\n",
    "\n",
    "def get_wikidump_available(wiki_url=WIKIPEDIA_URL,wiki_lang=WIKIPEDIA_LANG):\n",
    "    base_url = posixpath.join(wiki_url, wiki_lang)\n",
    "    index = urllib.request.urlopen(base_url).read()\n",
    "    soup_index = BeautifulSoup(index, 'html.parser')\n",
    "    # Find the links on the page\n",
    "    return [a['href'] for a in soup_index.find_all('a') if \n",
    "             a.has_attr('href')]\n",
    "\n",
    "def get_latest_wikidump(dumps):\n",
    "    lst = []\n",
    "    for dump in dumps:\n",
    "        try:\n",
    "            idx = dump.index('/')\n",
    "            \n",
    "            if idx != -1:\n",
    "                dump = dump[:idx]\n",
    "            \n",
    "            lst.append(int(dump))\n",
    "        except ValueError:\n",
    "            pass\n",
    "        \n",
    "    return max(lst)\n",
    "\n",
    "def wikidump_download(target_path, wiki_url=WIKIPEDIA_URL,wiki_lang=WIKIPEDIA_LANG, timestamp=None):\n",
    "    if not timestamp:\n",
    "        timestamp = get_latest_wikidump(get_wikidump_available(wiki_url,wiki_lang))\n",
    "    \n",
    "    dump_url = posixpath.join(wiki_url, wiki_lang, str(timestamp))\n",
    "    print(dump_url)\n",
    "    \n",
    "    status_file = posixpath.join(dump_url, 'dumpstatus.json')\n",
    "    dump_json = urllib.request.urlopen(status_file).read()\n",
    "    dump_status = json.loads(dump_json)\n",
    "    dump_current = dump_status['jobs']['metacurrentdump']\n",
    "    job_status = dump_current['status']\n",
    "    \n",
    "    if job_status != 'done':\n",
    "        raise ValueError(f\"Current article dump status: [job_status]\")\n",
    "        \n",
    "    files = dump_current['files']\n",
    "    for file in files.keys():\n",
    "        meta = files[file]\n",
    "        source_url = urllib.parse.urljoin(wiki_url, meta['url'])\n",
    "        target_file = os.path.join(target_path,file)\n",
    "        if os.path.exists(target_file):\n",
    "            sha1_local = sha1_file(target_file)\n",
    "            if sha1_local != meta['sha1']:\n",
    "                print(f\"Corrupt: {file}\")\n",
    "                os.remove(\"file\")\n",
    "                should_download = True\n",
    "            else:\n",
    "                print(f\"Exists: {file}\")\n",
    "                should_download = False\n",
    "        else:\n",
    "            print(f\"Missing: {file}\")\n",
    "            should_download = True\n",
    "            \n",
    "        if should_download:\n",
    "            try:\n",
    "                urllib.request.urlretrieve(source_url, target_file)\n",
    "                print(f\"Downloaded: {file}\")\n",
    "            except urllib.error.URLError as e:\n",
    "                try:\n",
    "                    os.remove(target_file)\n",
    "                finally:\n",
    "                    print(f\"Download Error: {file}\")\n",
    "\n",
    "\n",
    "wikidump_download(WIKIPEDIA_DL)"
   ]
  },
  {
   "cell_type": "markdown",
   "metadata": {},
   "source": [
    "# Download Wikipedia Dump Data\n",
    "\n",
    "This part only needs to be run once, at the beginning to download Wikipedia to somewhere on your system.  Note, this part will take a long time!  It will transfer much data!"
   ]
  },
  {
   "cell_type": "code",
   "execution_count": 3,
   "metadata": {
    "scrolled": true
   },
   "outputs": [
    {
     "name": "stdout",
     "output_type": "stream",
     "text": [
      "https://dumps.wikimedia.org/enwiki/20210320\n"
     ]
    },
    {
     "ename": "KeyboardInterrupt",
     "evalue": "",
     "output_type": "error",
     "traceback": [
      "\u001b[1;31m---------------------------------------------------------------------------\u001b[0m",
      "\u001b[1;31mKeyboardInterrupt\u001b[0m                         Traceback (most recent call last)",
      "\u001b[1;32m<ipython-input-3-f66fccbce6da>\u001b[0m in \u001b[0;36m<module>\u001b[1;34m\u001b[0m\n\u001b[1;32m----> 1\u001b[1;33m \u001b[0mwikidump_download\u001b[0m\u001b[1;33m(\u001b[0m\u001b[0mWIKIPEDIA_DL\u001b[0m\u001b[1;33m)\u001b[0m\u001b[1;33m\u001b[0m\u001b[1;33m\u001b[0m\u001b[0m\n\u001b[0m",
      "\u001b[1;32m<ipython-input-2-a8b5825e47b5>\u001b[0m in \u001b[0;36mwikidump_download\u001b[1;34m(target_path, wiki_url, wiki_lang, timestamp)\u001b[0m\n\u001b[0;32m     60\u001b[0m         \u001b[0mtarget_file\u001b[0m \u001b[1;33m=\u001b[0m \u001b[0mos\u001b[0m\u001b[1;33m.\u001b[0m\u001b[0mpath\u001b[0m\u001b[1;33m.\u001b[0m\u001b[0mjoin\u001b[0m\u001b[1;33m(\u001b[0m\u001b[0mtarget_path\u001b[0m\u001b[1;33m,\u001b[0m\u001b[0mfile\u001b[0m\u001b[1;33m)\u001b[0m\u001b[1;33m\u001b[0m\u001b[1;33m\u001b[0m\u001b[0m\n\u001b[0;32m     61\u001b[0m         \u001b[1;32mif\u001b[0m \u001b[0mos\u001b[0m\u001b[1;33m.\u001b[0m\u001b[0mpath\u001b[0m\u001b[1;33m.\u001b[0m\u001b[0mexists\u001b[0m\u001b[1;33m(\u001b[0m\u001b[0mtarget_file\u001b[0m\u001b[1;33m)\u001b[0m\u001b[1;33m:\u001b[0m\u001b[1;33m\u001b[0m\u001b[1;33m\u001b[0m\u001b[0m\n\u001b[1;32m---> 62\u001b[1;33m             \u001b[0msha1_local\u001b[0m \u001b[1;33m=\u001b[0m \u001b[0msha1_file\u001b[0m\u001b[1;33m(\u001b[0m\u001b[0mtarget_file\u001b[0m\u001b[1;33m)\u001b[0m\u001b[1;33m\u001b[0m\u001b[1;33m\u001b[0m\u001b[0m\n\u001b[0m\u001b[0;32m     63\u001b[0m             \u001b[1;32mif\u001b[0m \u001b[0msha1_local\u001b[0m \u001b[1;33m!=\u001b[0m \u001b[0mmeta\u001b[0m\u001b[1;33m[\u001b[0m\u001b[1;34m'sha1'\u001b[0m\u001b[1;33m]\u001b[0m\u001b[1;33m:\u001b[0m\u001b[1;33m\u001b[0m\u001b[1;33m\u001b[0m\u001b[0m\n\u001b[0;32m     64\u001b[0m                 \u001b[0mprint\u001b[0m\u001b[1;33m(\u001b[0m\u001b[1;34mf\"Corrupt: {file}\"\u001b[0m\u001b[1;33m)\u001b[0m\u001b[1;33m\u001b[0m\u001b[1;33m\u001b[0m\u001b[0m\n",
      "\u001b[1;32m<ipython-input-2-a8b5825e47b5>\u001b[0m in \u001b[0;36msha1_file\u001b[1;34m(path)\u001b[0m\n\u001b[0;32m     12\u001b[0m             \u001b[1;32mif\u001b[0m \u001b[1;32mnot\u001b[0m \u001b[0mdata\u001b[0m\u001b[1;33m:\u001b[0m\u001b[1;33m\u001b[0m\u001b[1;33m\u001b[0m\u001b[0m\n\u001b[0;32m     13\u001b[0m                 \u001b[1;32mbreak\u001b[0m\u001b[1;33m\u001b[0m\u001b[1;33m\u001b[0m\u001b[0m\n\u001b[1;32m---> 14\u001b[1;33m             \u001b[0msha1\u001b[0m\u001b[1;33m.\u001b[0m\u001b[0mupdate\u001b[0m\u001b[1;33m(\u001b[0m\u001b[0mdata\u001b[0m\u001b[1;33m)\u001b[0m\u001b[1;33m\u001b[0m\u001b[1;33m\u001b[0m\u001b[0m\n\u001b[0m\u001b[0;32m     15\u001b[0m     \u001b[1;32mreturn\u001b[0m \u001b[0msha1\u001b[0m\u001b[1;33m.\u001b[0m\u001b[0mhexdigest\u001b[0m\u001b[1;33m(\u001b[0m\u001b[1;33m)\u001b[0m\u001b[1;33m\u001b[0m\u001b[1;33m\u001b[0m\u001b[0m\n\u001b[0;32m     16\u001b[0m \u001b[1;33m\u001b[0m\u001b[0m\n",
      "\u001b[1;31mKeyboardInterrupt\u001b[0m: "
     ]
    }
   ],
   "source": [
    "wikidump_download(WIKIPEDIA_DL)"
   ]
  },
  {
   "cell_type": "markdown",
   "metadata": {},
   "source": [
    "# Process Wikipedia Data\n",
    "\n",
    "This can be run after the previous section has downloaded Wikipedia data.  This example creates 3 files from extracted Wikipedia data:\n",
    "\n",
    "* article.csv - A listing of all articles on Wikipedia, with their Wikipedia ID.\n",
    "* redirect.csv - A listing of all redirects of articles on Wikipedia. e.g. USA to United_States\n",
    "* template.csv - A listing of all templates on Wikipedia.  These are the \"types\" of articles."
   ]
  },
  {
   "cell_type": "code",
   "execution_count": 4,
   "metadata": {},
   "outputs": [
    {
     "name": "stdout",
     "output_type": "stream",
     "text": [
      "Processing 60 files\n",
      "Detected 4 cores.\n",
      "Using 4 threads\n"
     ]
    },
    {
     "ename": "TypeError",
     "evalue": "cannot serialize '_io.BufferedWriter' object",
     "output_type": "error",
     "traceback": [
      "\u001b[1;31m---------------------------------------------------------------------------\u001b[0m",
      "\u001b[1;31mTypeError\u001b[0m                                 Traceback (most recent call last)",
      "\u001b[1;32m<ipython-input-4-4ba3c856586a>\u001b[0m in \u001b[0;36m<module>\u001b[1;34m\u001b[0m\n\u001b[0;32m     62\u001b[0m     \u001b[0mWIKIPEDIA_DL\u001b[0m \u001b[1;31m#Location you downloaded Wikipedia to\u001b[0m\u001b[1;33m\u001b[0m\u001b[1;33m\u001b[0m\u001b[0m\n\u001b[0;32m     63\u001b[0m )\n\u001b[1;32m---> 64\u001b[1;33m \u001b[0mwiki\u001b[0m\u001b[1;33m.\u001b[0m\u001b[0mprocess\u001b[0m\u001b[1;33m(\u001b[0m\u001b[1;33m)\u001b[0m\u001b[1;33m\u001b[0m\u001b[1;33m\u001b[0m\u001b[0m\n\u001b[0m",
      "\u001b[1;32m~\\projects\\present\\youtube\\wikipedia\\process\\process_wikipedia.py\u001b[0m in \u001b[0;36mprocess\u001b[1;34m(self)\u001b[0m\n\u001b[0;32m    215\u001b[0m         \u001b[1;32mfor\u001b[0m \u001b[0mi\u001b[0m \u001b[1;32min\u001b[0m \u001b[0mrange\u001b[0m\u001b[1;33m(\u001b[0m\u001b[0mworkers\u001b[0m\u001b[1;33m)\u001b[0m\u001b[1;33m:\u001b[0m\u001b[1;33m\u001b[0m\u001b[1;33m\u001b[0m\u001b[0m\n\u001b[0;32m    216\u001b[0m             \u001b[0mp\u001b[0m \u001b[1;33m=\u001b[0m \u001b[0mmp\u001b[0m\u001b[1;33m.\u001b[0m\u001b[0mProcess\u001b[0m\u001b[1;33m(\u001b[0m\u001b[0mtarget\u001b[0m\u001b[1;33m=\u001b[0m\u001b[0mExtractWikipedia\u001b[0m\u001b[1;33m.\u001b[0m\u001b[0mworker\u001b[0m\u001b[1;33m,\u001b[0m \u001b[0margs\u001b[0m\u001b[1;33m=\u001b[0m\u001b[1;33m(\u001b[0m\u001b[0minputQueue\u001b[0m\u001b[1;33m,\u001b[0m \u001b[0moutputQueue\u001b[0m\u001b[1;33m,\u001b[0m \u001b[0mconfig\u001b[0m\u001b[1;33m)\u001b[0m\u001b[1;33m)\u001b[0m\u001b[1;33m\u001b[0m\u001b[1;33m\u001b[0m\u001b[0m\n\u001b[1;32m--> 217\u001b[1;33m             \u001b[0mp\u001b[0m\u001b[1;33m.\u001b[0m\u001b[0mstart\u001b[0m\u001b[1;33m(\u001b[0m\u001b[1;33m)\u001b[0m\u001b[1;33m\u001b[0m\u001b[1;33m\u001b[0m\u001b[0m\n\u001b[0m\u001b[0;32m    218\u001b[0m             \u001b[0mprocesses\u001b[0m\u001b[1;33m.\u001b[0m\u001b[0mappend\u001b[0m\u001b[1;33m(\u001b[0m\u001b[0mp\u001b[0m\u001b[1;33m)\u001b[0m\u001b[1;33m\u001b[0m\u001b[1;33m\u001b[0m\u001b[0m\n\u001b[0;32m    219\u001b[0m \u001b[1;33m\u001b[0m\u001b[0m\n",
      "\u001b[1;32m~\\Miniconda3\\lib\\multiprocessing\\process.py\u001b[0m in \u001b[0;36mstart\u001b[1;34m(self)\u001b[0m\n\u001b[0;32m    110\u001b[0m                \u001b[1;34m'daemonic processes are not allowed to have children'\u001b[0m\u001b[1;33m\u001b[0m\u001b[1;33m\u001b[0m\u001b[0m\n\u001b[0;32m    111\u001b[0m         \u001b[0m_cleanup\u001b[0m\u001b[1;33m(\u001b[0m\u001b[1;33m)\u001b[0m\u001b[1;33m\u001b[0m\u001b[1;33m\u001b[0m\u001b[0m\n\u001b[1;32m--> 112\u001b[1;33m         \u001b[0mself\u001b[0m\u001b[1;33m.\u001b[0m\u001b[0m_popen\u001b[0m \u001b[1;33m=\u001b[0m \u001b[0mself\u001b[0m\u001b[1;33m.\u001b[0m\u001b[0m_Popen\u001b[0m\u001b[1;33m(\u001b[0m\u001b[0mself\u001b[0m\u001b[1;33m)\u001b[0m\u001b[1;33m\u001b[0m\u001b[1;33m\u001b[0m\u001b[0m\n\u001b[0m\u001b[0;32m    113\u001b[0m         \u001b[0mself\u001b[0m\u001b[1;33m.\u001b[0m\u001b[0m_sentinel\u001b[0m \u001b[1;33m=\u001b[0m \u001b[0mself\u001b[0m\u001b[1;33m.\u001b[0m\u001b[0m_popen\u001b[0m\u001b[1;33m.\u001b[0m\u001b[0msentinel\u001b[0m\u001b[1;33m\u001b[0m\u001b[1;33m\u001b[0m\u001b[0m\n\u001b[0;32m    114\u001b[0m         \u001b[1;31m# Avoid a refcycle if the target function holds an indirect\u001b[0m\u001b[1;33m\u001b[0m\u001b[1;33m\u001b[0m\u001b[1;33m\u001b[0m\u001b[0m\n",
      "\u001b[1;32m~\\Miniconda3\\lib\\multiprocessing\\context.py\u001b[0m in \u001b[0;36m_Popen\u001b[1;34m(process_obj)\u001b[0m\n\u001b[0;32m    221\u001b[0m     \u001b[1;33m@\u001b[0m\u001b[0mstaticmethod\u001b[0m\u001b[1;33m\u001b[0m\u001b[1;33m\u001b[0m\u001b[0m\n\u001b[0;32m    222\u001b[0m     \u001b[1;32mdef\u001b[0m \u001b[0m_Popen\u001b[0m\u001b[1;33m(\u001b[0m\u001b[0mprocess_obj\u001b[0m\u001b[1;33m)\u001b[0m\u001b[1;33m:\u001b[0m\u001b[1;33m\u001b[0m\u001b[1;33m\u001b[0m\u001b[0m\n\u001b[1;32m--> 223\u001b[1;33m         \u001b[1;32mreturn\u001b[0m \u001b[0m_default_context\u001b[0m\u001b[1;33m.\u001b[0m\u001b[0mget_context\u001b[0m\u001b[1;33m(\u001b[0m\u001b[1;33m)\u001b[0m\u001b[1;33m.\u001b[0m\u001b[0mProcess\u001b[0m\u001b[1;33m.\u001b[0m\u001b[0m_Popen\u001b[0m\u001b[1;33m(\u001b[0m\u001b[0mprocess_obj\u001b[0m\u001b[1;33m)\u001b[0m\u001b[1;33m\u001b[0m\u001b[1;33m\u001b[0m\u001b[0m\n\u001b[0m\u001b[0;32m    224\u001b[0m \u001b[1;33m\u001b[0m\u001b[0m\n\u001b[0;32m    225\u001b[0m \u001b[1;32mclass\u001b[0m \u001b[0mDefaultContext\u001b[0m\u001b[1;33m(\u001b[0m\u001b[0mBaseContext\u001b[0m\u001b[1;33m)\u001b[0m\u001b[1;33m:\u001b[0m\u001b[1;33m\u001b[0m\u001b[1;33m\u001b[0m\u001b[0m\n",
      "\u001b[1;32m~\\Miniconda3\\lib\\multiprocessing\\context.py\u001b[0m in \u001b[0;36m_Popen\u001b[1;34m(process_obj)\u001b[0m\n\u001b[0;32m    320\u001b[0m         \u001b[1;32mdef\u001b[0m \u001b[0m_Popen\u001b[0m\u001b[1;33m(\u001b[0m\u001b[0mprocess_obj\u001b[0m\u001b[1;33m)\u001b[0m\u001b[1;33m:\u001b[0m\u001b[1;33m\u001b[0m\u001b[1;33m\u001b[0m\u001b[0m\n\u001b[0;32m    321\u001b[0m             \u001b[1;32mfrom\u001b[0m \u001b[1;33m.\u001b[0m\u001b[0mpopen_spawn_win32\u001b[0m \u001b[1;32mimport\u001b[0m \u001b[0mPopen\u001b[0m\u001b[1;33m\u001b[0m\u001b[1;33m\u001b[0m\u001b[0m\n\u001b[1;32m--> 322\u001b[1;33m             \u001b[1;32mreturn\u001b[0m \u001b[0mPopen\u001b[0m\u001b[1;33m(\u001b[0m\u001b[0mprocess_obj\u001b[0m\u001b[1;33m)\u001b[0m\u001b[1;33m\u001b[0m\u001b[1;33m\u001b[0m\u001b[0m\n\u001b[0m\u001b[0;32m    323\u001b[0m \u001b[1;33m\u001b[0m\u001b[0m\n\u001b[0;32m    324\u001b[0m     \u001b[1;32mclass\u001b[0m \u001b[0mSpawnContext\u001b[0m\u001b[1;33m(\u001b[0m\u001b[0mBaseContext\u001b[0m\u001b[1;33m)\u001b[0m\u001b[1;33m:\u001b[0m\u001b[1;33m\u001b[0m\u001b[1;33m\u001b[0m\u001b[0m\n",
      "\u001b[1;32m~\\Miniconda3\\lib\\multiprocessing\\popen_spawn_win32.py\u001b[0m in \u001b[0;36m__init__\u001b[1;34m(self, process_obj)\u001b[0m\n\u001b[0;32m     87\u001b[0m             \u001b[1;32mtry\u001b[0m\u001b[1;33m:\u001b[0m\u001b[1;33m\u001b[0m\u001b[1;33m\u001b[0m\u001b[0m\n\u001b[0;32m     88\u001b[0m                 \u001b[0mreduction\u001b[0m\u001b[1;33m.\u001b[0m\u001b[0mdump\u001b[0m\u001b[1;33m(\u001b[0m\u001b[0mprep_data\u001b[0m\u001b[1;33m,\u001b[0m \u001b[0mto_child\u001b[0m\u001b[1;33m)\u001b[0m\u001b[1;33m\u001b[0m\u001b[1;33m\u001b[0m\u001b[0m\n\u001b[1;32m---> 89\u001b[1;33m                 \u001b[0mreduction\u001b[0m\u001b[1;33m.\u001b[0m\u001b[0mdump\u001b[0m\u001b[1;33m(\u001b[0m\u001b[0mprocess_obj\u001b[0m\u001b[1;33m,\u001b[0m \u001b[0mto_child\u001b[0m\u001b[1;33m)\u001b[0m\u001b[1;33m\u001b[0m\u001b[1;33m\u001b[0m\u001b[0m\n\u001b[0m\u001b[0;32m     90\u001b[0m             \u001b[1;32mfinally\u001b[0m\u001b[1;33m:\u001b[0m\u001b[1;33m\u001b[0m\u001b[1;33m\u001b[0m\u001b[0m\n\u001b[0;32m     91\u001b[0m                 \u001b[0mset_spawning_popen\u001b[0m\u001b[1;33m(\u001b[0m\u001b[1;32mNone\u001b[0m\u001b[1;33m)\u001b[0m\u001b[1;33m\u001b[0m\u001b[1;33m\u001b[0m\u001b[0m\n",
      "\u001b[1;32m~\\Miniconda3\\lib\\multiprocessing\\reduction.py\u001b[0m in \u001b[0;36mdump\u001b[1;34m(obj, file, protocol)\u001b[0m\n\u001b[0;32m     58\u001b[0m \u001b[1;32mdef\u001b[0m \u001b[0mdump\u001b[0m\u001b[1;33m(\u001b[0m\u001b[0mobj\u001b[0m\u001b[1;33m,\u001b[0m \u001b[0mfile\u001b[0m\u001b[1;33m,\u001b[0m \u001b[0mprotocol\u001b[0m\u001b[1;33m=\u001b[0m\u001b[1;32mNone\u001b[0m\u001b[1;33m)\u001b[0m\u001b[1;33m:\u001b[0m\u001b[1;33m\u001b[0m\u001b[1;33m\u001b[0m\u001b[0m\n\u001b[0;32m     59\u001b[0m     \u001b[1;34m'''Replacement for pickle.dump() using ForkingPickler.'''\u001b[0m\u001b[1;33m\u001b[0m\u001b[1;33m\u001b[0m\u001b[0m\n\u001b[1;32m---> 60\u001b[1;33m     \u001b[0mForkingPickler\u001b[0m\u001b[1;33m(\u001b[0m\u001b[0mfile\u001b[0m\u001b[1;33m,\u001b[0m \u001b[0mprotocol\u001b[0m\u001b[1;33m)\u001b[0m\u001b[1;33m.\u001b[0m\u001b[0mdump\u001b[0m\u001b[1;33m(\u001b[0m\u001b[0mobj\u001b[0m\u001b[1;33m)\u001b[0m\u001b[1;33m\u001b[0m\u001b[1;33m\u001b[0m\u001b[0m\n\u001b[0m\u001b[0;32m     61\u001b[0m \u001b[1;33m\u001b[0m\u001b[0m\n\u001b[0;32m     62\u001b[0m \u001b[1;31m#\u001b[0m\u001b[1;33m\u001b[0m\u001b[1;33m\u001b[0m\u001b[1;33m\u001b[0m\u001b[0m\n",
      "\u001b[1;31mTypeError\u001b[0m: cannot serialize '_io.BufferedWriter' object"
     ]
    }
   ],
   "source": [
    "class ProcessPagesWorker():\n",
    "    def __init__(self, config, outputQueue):\n",
    "        self.config = config\n",
    "        self.outputQueue = outputQueue\n",
    "        \n",
    "    def process_template(self, id, title):\n",
    "        self.outputQueue.put(\n",
    "            {'template': [id, title] }\n",
    "        )\n",
    "    \n",
    "    def process_article(self, id, title):\n",
    "        self.outputQueue.put(\n",
    "            {'article': [id, title] }\n",
    "        )\n",
    "    \n",
    "    def process_redirect(self, id, title, redirect):\n",
    "        self.outputQueue.put(\n",
    "            {'redirect': [id, title, redirect] }\n",
    "        )\n",
    "        \n",
    "    def report_progress(self, completed):\n",
    "        self.outputQueue.put({\"completed\": completed})\n",
    "        \n",
    "    def close(self):\n",
    "        self.articles_fp.close()\n",
    "        self.redirect_fp.close()\n",
    "        self.template_fp.close()\n",
    "\n",
    "class ProcessPages:\n",
    "    def __init__(self, output_path):        \n",
    "        pathArticles = os.path.join(output_path, \"article.csv\")\n",
    "        pathRedirect = os.path.join(output_path, \"redirect.csv\")\n",
    "        pathTemplate = os.path.join(output_path, \"template.csv\")\n",
    "        \n",
    "        self.articles_fp = codecs.open(pathArticles, \"w\", ENCODING)\n",
    "        self.redirect_fp = codecs.open(pathRedirect, \"w\", ENCODING)\n",
    "        self.template_fp = codecs.open(pathTemplate, \"w\", ENCODING)\n",
    "    \n",
    "        self.articlesWriter = csv.writer(self.articles_fp, quoting=csv.QUOTE_MINIMAL)\n",
    "        self.redirectWriter = csv.writer(self.redirect_fp, quoting=csv.QUOTE_MINIMAL)\n",
    "        self.templateWriter = csv.writer(self.template_fp, quoting=csv.QUOTE_MINIMAL)\n",
    "        \n",
    "        self.articlesWriter.writerow(['id', 'title'])\n",
    "        self.redirectWriter.writerow(['id', 'title', 'redirect'])\n",
    "        self.templateWriter.writerow(['id', 'title'])\n",
    "    \n",
    "    def handle_event(self, evt):\n",
    "\n",
    "        if \"article\" in evt:\n",
    "            self.articlesWriter.writerow(evt['article'])\n",
    "        elif \"template\" in evt:\n",
    "            self.templateWriter.writerow(evt['template'])\n",
    "        elif \"redirect\" in evt:\n",
    "            self.redirectWriter.writerow(evt['redirect'])\n",
    "            \n",
    "    def get_worker_class(self, outputQueue, config):\n",
    "        return ProcessPagesWorker(config, outputQueue)\n",
    "    \n",
    "\n",
    "wiki = ExtractWikipedia(\n",
    "    ProcessPages(WIKIPEDIA_ROOT), # where you want the extracted Wikipedia files to go\n",
    "    WIKIPEDIA_DL #Location you downloaded Wikipedia to\n",
    ")\n",
    "wiki.process()"
   ]
  },
  {
   "cell_type": "code",
   "execution_count": null,
   "metadata": {},
   "outputs": [],
   "source": []
  }
 ],
 "metadata": {
  "kernelspec": {
   "display_name": "Python 3",
   "language": "python",
   "name": "python3"
  },
  "language_info": {
   "codemirror_mode": {
    "name": "ipython",
    "version": 3
   },
   "file_extension": ".py",
   "mimetype": "text/x-python",
   "name": "python",
   "nbconvert_exporter": "python",
   "pygments_lexer": "ipython3",
   "version": "3.7.4"
  }
 },
 "nbformat": 4,
 "nbformat_minor": 5
}
